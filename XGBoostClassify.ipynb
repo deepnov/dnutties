{
  "nbformat": 4,
  "nbformat_minor": 0,
  "metadata": {
    "colab": {
      "provenance": [],
      "authorship_tag": "ABX9TyMP11cpHaw/kd7D8qauvFbt",
      "include_colab_link": true
    },
    "kernelspec": {
      "name": "python3",
      "display_name": "Python 3"
    },
    "language_info": {
      "name": "python"
    }
  },
  "cells": [
    {
      "cell_type": "markdown",
      "metadata": {
        "id": "view-in-github",
        "colab_type": "text"
      },
      "source": [
        "<a href=\"https://colab.research.google.com/github/deepnov/dnutties/blob/main/XGBoostClassify.ipynb\" target=\"_parent\"><img src=\"https://colab.research.google.com/assets/colab-badge.svg\" alt=\"Open In Colab\"/></a>"
      ]
    },
    {
      "cell_type": "code",
      "execution_count": 4,
      "metadata": {
        "id": "u3i8hDCL_0-o"
      },
      "outputs": [],
      "source": [
        "from sklearn.preprocessing import OrdinalEncoder\n",
        "from sklearn.model_selection import train_test_split\n",
        "\n",
        "import seaborn as sns\n",
        "import numpy as np\n",
        "\n",
        "diamonds = sns.load_dataset(\"diamonds\")\n",
        "\n",
        "X, y = diamonds.drop(\"cut\", axis=1), diamonds[['cut']]\n",
        "\n",
        "# Encode y to numeric\n",
        "y_encoded = OrdinalEncoder().fit_transform(y)\n",
        "\n",
        "# Extract text features\n",
        "cats = X.select_dtypes(exclude=np.number).columns.tolist()\n",
        "\n",
        "# Convert to pd.Categorical\n",
        "for col in cats:\n",
        "   X[col] = X[col].astype('category')\n",
        "\n",
        "# Split the data\n",
        "X_train, X_test, y_train, y_test = train_test_split(X, y_encoded, random_state=1, stratify=y_encoded)"
      ]
    },
    {
      "cell_type": "code",
      "source": [
        "import xgboost as xgb\n",
        "\n",
        "# Create classification matrices\n",
        "dtrain_clf = xgb.DMatrix(X_train, y_train, enable_categorical=True)\n",
        "dtest_clf = xgb.DMatrix(X_test, y_test, enable_categorical=True)"
      ],
      "metadata": {
        "id": "9KAayBjlAs8n"
      },
      "execution_count": 5,
      "outputs": []
    },
    {
      "cell_type": "code",
      "source": [
        "params = {\"objective\": \"multi:softprob\", \"tree_method\": \"hist\", \"num_class\": 5}\n",
        "n = 1000\n",
        "\n",
        "results = xgb.cv(\n",
        "   params, dtrain_clf,\n",
        "   num_boost_round=n,\n",
        "   nfold=5,\n",
        "   metrics=[\"mlogloss\", \"auc\", \"merror\"],\n",
        ")"
      ],
      "metadata": {
        "id": "XQJB5yp9A8ef"
      },
      "execution_count": 6,
      "outputs": []
    },
    {
      "cell_type": "code",
      "source": [
        "results.keys()\n"
      ],
      "metadata": {
        "colab": {
          "base_uri": "https://localhost:8080/"
        },
        "id": "HyACj-T8Dkkf",
        "outputId": "a34ebb2b-6df5-46ad-8661-94be8fc810f0"
      },
      "execution_count": 7,
      "outputs": [
        {
          "output_type": "execute_result",
          "data": {
            "text/plain": [
              "Index(['train-mlogloss-mean', 'train-mlogloss-std', 'train-auc-mean',\n",
              "       'train-auc-std', 'train-merror-mean', 'train-merror-std',\n",
              "       'test-mlogloss-mean', 'test-mlogloss-std', 'test-auc-mean',\n",
              "       'test-auc-std', 'test-merror-mean', 'test-merror-std'],\n",
              "      dtype='object')"
            ]
          },
          "metadata": {},
          "execution_count": 7
        }
      ]
    },
    {
      "cell_type": "code",
      "source": [
        "results['test-auc-mean'].max()"
      ],
      "metadata": {
        "colab": {
          "base_uri": "https://localhost:8080/"
        },
        "id": "Pd0dtI0FDotu",
        "outputId": "9e477b08-1544-4379-ff6f-69b0ab2acc73"
      },
      "execution_count": 8,
      "outputs": [
        {
          "output_type": "execute_result",
          "data": {
            "text/plain": [
              "0.9403142643933986"
            ]
          },
          "metadata": {},
          "execution_count": 8
        }
      ]
    },
    {
      "cell_type": "markdown",
      "source": [
        "The default configuration gave us 94% performance, which is great.\n",
        "\n"
      ],
      "metadata": {
        "id": "xT8EdGL9Duuf"
      }
    }
  ]
}